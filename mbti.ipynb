{
 "cells": [
  {
   "cell_type": "code",
   "execution_count": 58,
   "metadata": {},
   "outputs": [],
   "source": [
    "import pytesseract\n",
    "import cv2\n",
    "import matplotlib.pyplot as plt\n",
    "from glob import glob\n"
   ]
  },
  {
   "cell_type": "code",
   "execution_count": 69,
   "metadata": {},
   "outputs": [
    {
     "name": "stdout",
     "output_type": "stream",
     "text": [
      "['./img\\\\0.png', './img\\\\e.png', './img\\\\KakaoTalk_20220621_204811198.png']\n"
     ]
    }
   ],
   "source": [
    "img = glob(\"./img/*.png\")\n",
    "print(img)"
   ]
  },
  {
   "cell_type": "code",
   "execution_count": 82,
   "metadata": {},
   "outputs": [],
   "source": [
    "mbti = cv2.imread(img[0])\n",
    "rgb_image = cv2.cvtColor(mbti, cv2.COLOR_BGR2GRAY)\n",
    "\n",
    "result = pytesseract.image_to_string(mbti, lang='eng')\n",
    "# result = pytesseract.image_to_string(rgb_image, lang='eng')\n"
   ]
  },
  {
   "cell_type": "code",
   "execution_count": 95,
   "metadata": {},
   "outputs": [
    {
     "name": "stdout",
     "output_type": "stream",
     "text": [
      "['Ne (extraverted intuition)', 'Ni (introverted intuition)', 'Se (extraverted sensing)', 'Si (introverted sensing)', 'Te (extraverted thinking)', 'Ti Gntroverted thinking)', 'Fe (extraverted feeling)', 'Fi Gntroverted feeling)']\n",
      "['43.8', '35', '22', '25', '43', '22', '29']\n"
     ]
    }
   ],
   "source": [
    "to_list = result.split('\\n')\n",
    "result_list = []\n",
    "for i in to_list:\n",
    "    if i=='':\n",
    "        pass\n",
    "    else:\n",
    "        result_list.append(i)\n",
    "print(result_list[0:8])\n",
    "print(result_list[9:])"
   ]
  },
  {
   "cell_type": "code",
   "execution_count": 114,
   "metadata": {},
   "outputs": [],
   "source": [
    "last = []\n",
    "for i in result_list:\n",
    "    last.append(i.split(' ')[0])\n",
    "    "
   ]
  },
  {
   "cell_type": "code",
   "execution_count": 115,
   "metadata": {},
   "outputs": [
    {
     "data": {
      "text/plain": [
       "['Ne',\n",
       " 'Ni',\n",
       " 'Se',\n",
       " 'Si',\n",
       " 'Te',\n",
       " 'Ti',\n",
       " 'Fe',\n",
       " 'Fi',\n",
       " '46.2',\n",
       " '43.8',\n",
       " '35',\n",
       " '22',\n",
       " '25',\n",
       " '43',\n",
       " '22',\n",
       " '29']"
      ]
     },
     "execution_count": 115,
     "metadata": {},
     "output_type": "execute_result"
    }
   ],
   "source": [
    "last"
   ]
  },
  {
   "cell_type": "code",
   "execution_count": 116,
   "metadata": {},
   "outputs": [
    {
     "data": {
      "text/plain": [
       "{'Ne': '46.2',\n",
       " 'Ni': '43.8',\n",
       " 'Se': '35',\n",
       " 'Si': '22',\n",
       " 'Te': '25',\n",
       " 'Ti': '43',\n",
       " 'Fe': '22',\n",
       " 'Fi': '29'}"
      ]
     },
     "execution_count": 116,
     "metadata": {},
     "output_type": "execute_result"
    }
   ],
   "source": [
    "data = {}\n",
    "a = int(len(last)/2)\n",
    "for i in range(a):\n",
    "    data[last[i]] = last[a+i]\n",
    "data"
   ]
  },
  {
   "cell_type": "code",
   "execution_count": 151,
   "metadata": {},
   "outputs": [
    {
     "data": {
      "text/plain": [
       "[('Ne', '46.2'),\n",
       " ('Ni', '43.8'),\n",
       " ('Ti', '43'),\n",
       " ('Se', '35'),\n",
       " ('Fi', '29'),\n",
       " ('Te', '25'),\n",
       " ('Si', '22'),\n",
       " ('Fe', '22')]"
      ]
     },
     "execution_count": 151,
     "metadata": {},
     "output_type": "execute_result"
    }
   ],
   "source": [
    "data2 = sorted(data.items(), key=lambda x:x[1], reverse=True)\n",
    "data2"
   ]
  },
  {
   "cell_type": "code",
   "execution_count": 152,
   "metadata": {},
   "outputs": [
    {
     "data": {
      "text/plain": [
       "33.25"
      ]
     },
     "execution_count": 152,
     "metadata": {},
     "output_type": "execute_result"
    }
   ],
   "source": [
    "hap = 0\n",
    "for i in range(8):\n",
    "    hap += float(data2[i][1])\n",
    "mid = hap/8\n",
    "mid"
   ]
  },
  {
   "cell_type": "code",
   "execution_count": 153,
   "metadata": {},
   "outputs": [],
   "source": [
    "ddata = dict(data2)"
   ]
  },
  {
   "cell_type": "code",
   "execution_count": 156,
   "metadata": {},
   "outputs": [
    {
     "data": {
      "text/plain": [
       "{'Ne': 12.95,\n",
       " 'Ni': 10.55,\n",
       " 'Ti': 9.75,\n",
       " 'Se': 1.75,\n",
       " 'Fi': -4.25,\n",
       " 'Te': -8.25,\n",
       " 'Si': -11.25,\n",
       " 'Fe': -11.25}"
      ]
     },
     "execution_count": 156,
     "metadata": {},
     "output_type": "execute_result"
    }
   ],
   "source": [
    "for i in range(8):\n",
    "    ddata[data2[i][0]] = round(float(data2[i][1])- mid, 2)\n",
    "ddata"
   ]
  },
  {
   "cell_type": "markdown",
   "metadata": {},
   "source": []
  },
  {
   "cell_type": "markdown",
   "metadata": {},
   "source": []
  }
 ],
 "metadata": {
  "kernelspec": {
   "display_name": "Python 3.8.0 ('s')",
   "language": "python",
   "name": "python3"
  },
  "language_info": {
   "codemirror_mode": {
    "name": "ipython",
    "version": 3
   },
   "file_extension": ".py",
   "mimetype": "text/x-python",
   "name": "python",
   "nbconvert_exporter": "python",
   "pygments_lexer": "ipython3",
   "version": "3.8.0"
  },
  "orig_nbformat": 4,
  "vscode": {
   "interpreter": {
    "hash": "3f64803d6c28ba322e22f81d4ddf615dc9838bea52618eba80174cc248cf28ac"
   }
  }
 },
 "nbformat": 4,
 "nbformat_minor": 2
}
