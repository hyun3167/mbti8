{
 "cells": [
  {
   "cell_type": "code",
   "execution_count": 1,
   "metadata": {},
   "outputs": [],
   "source": [
    "import pytesseract\n",
    "import cv2\n",
    "import matplotlib.pyplot as plt\n",
    "from glob import glob\n"
   ]
  },
  {
   "cell_type": "code",
   "execution_count": 2,
   "metadata": {},
   "outputs": [
    {
     "name": "stdout",
     "output_type": "stream",
     "text": [
      "['./img\\\\0.png', './img\\\\e.png', './img\\\\KakaoTalk_20220621_204811198.png']\n"
     ]
    }
   ],
   "source": [
    "img = glob(\"./img/*.png\")\n",
    "print(img)"
   ]
  },
  {
   "cell_type": "code",
   "execution_count": 3,
   "metadata": {},
   "outputs": [],
   "source": [
    "mbti = cv2.imread(img[0])\n",
    "rgb_image = cv2.cvtColor(mbti, cv2.COLOR_BGR2GRAY)\n",
    "\n",
    "result = pytesseract.image_to_string(mbti, lang='eng')\n",
    "# result = pytesseract.image_to_string(rgb_image, lang='eng')\n"
   ]
  },
  {
   "cell_type": "code",
   "execution_count": 4,
   "metadata": {},
   "outputs": [
    {
     "name": "stdout",
     "output_type": "stream",
     "text": [
      "['Ne (extraverted intuition)', 'Ni (introverted intuition)', 'Se (extraverted sensing)', 'Si (introverted sensing)', 'Te (extraverted thinking)', 'Ti Gntroverted thinking)', 'Fe (extraverted feeling)', 'Fi Gntroverted feeling)']\n",
      "['43.8', '35', '22', '25', '43', '22', '29']\n"
     ]
    }
   ],
   "source": [
    "to_list = result.split('\\n')\n",
    "result_list = []\n",
    "for i in to_list:\n",
    "    if i=='':\n",
    "        pass\n",
    "    else:\n",
    "        result_list.append(i)\n",
    "print(result_list[0:8])\n",
    "print(result_list[9:])"
   ]
  },
  {
   "cell_type": "code",
   "execution_count": 5,
   "metadata": {},
   "outputs": [],
   "source": [
    "last = []\n",
    "for i in result_list:\n",
    "    last.append(i.split(' ')[0])\n",
    "    "
   ]
  },
  {
   "cell_type": "code",
   "execution_count": 6,
   "metadata": {},
   "outputs": [
    {
     "data": {
      "text/plain": [
       "['Ne',\n",
       " 'Ni',\n",
       " 'Se',\n",
       " 'Si',\n",
       " 'Te',\n",
       " 'Ti',\n",
       " 'Fe',\n",
       " 'Fi',\n",
       " '46.2',\n",
       " '43.8',\n",
       " '35',\n",
       " '22',\n",
       " '25',\n",
       " '43',\n",
       " '22',\n",
       " '29']"
      ]
     },
     "execution_count": 6,
     "metadata": {},
     "output_type": "execute_result"
    }
   ],
   "source": [
    "last"
   ]
  },
  {
   "cell_type": "code",
   "execution_count": 7,
   "metadata": {},
   "outputs": [
    {
     "data": {
      "text/plain": [
       "{'Ne': '46.2',\n",
       " 'Ni': '43.8',\n",
       " 'Se': '35',\n",
       " 'Si': '22',\n",
       " 'Te': '25',\n",
       " 'Ti': '43',\n",
       " 'Fe': '22',\n",
       " 'Fi': '29'}"
      ]
     },
     "execution_count": 7,
     "metadata": {},
     "output_type": "execute_result"
    }
   ],
   "source": [
    "data = {}\n",
    "a = int(len(last)/2)\n",
    "for i in range(a):\n",
    "    data[last[i]] = last[a+i]\n",
    "data"
   ]
  },
  {
   "cell_type": "code",
   "execution_count": 8,
   "metadata": {},
   "outputs": [
    {
     "data": {
      "text/plain": [
       "[('Ne', '46.2'),\n",
       " ('Ni', '43.8'),\n",
       " ('Ti', '43'),\n",
       " ('Se', '35'),\n",
       " ('Fi', '29'),\n",
       " ('Te', '25'),\n",
       " ('Si', '22'),\n",
       " ('Fe', '22')]"
      ]
     },
     "execution_count": 8,
     "metadata": {},
     "output_type": "execute_result"
    }
   ],
   "source": [
    "data2 = sorted(data.items(), key=lambda x:x[1], reverse=True)\n",
    "data2"
   ]
  },
  {
   "cell_type": "code",
   "execution_count": 9,
   "metadata": {},
   "outputs": [
    {
     "data": {
      "text/plain": [
       "33.25"
      ]
     },
     "execution_count": 9,
     "metadata": {},
     "output_type": "execute_result"
    }
   ],
   "source": [
    "hap = 0\n",
    "for i in range(8):\n",
    "    hap += float(data2[i][1])\n",
    "mid = hap/8\n",
    "mid"
   ]
  },
  {
   "cell_type": "code",
   "execution_count": 10,
   "metadata": {},
   "outputs": [],
   "source": [
    "ddata = dict(data2)"
   ]
  },
  {
   "cell_type": "code",
   "execution_count": 11,
   "metadata": {},
   "outputs": [
    {
     "data": {
      "text/plain": [
       "{'Ne': 12.95,\n",
       " 'Ni': 10.55,\n",
       " 'Ti': 9.75,\n",
       " 'Se': 1.75,\n",
       " 'Fi': -4.25,\n",
       " 'Te': -8.25,\n",
       " 'Si': -11.25,\n",
       " 'Fe': -11.25}"
      ]
     },
     "execution_count": 11,
     "metadata": {},
     "output_type": "execute_result"
    }
   ],
   "source": [
    "for i in range(8):\n",
    "    ddata[data2[i][0]] = round(float(data2[i][1])- mid, 2)\n",
    "ddata"
   ]
  },
  {
   "cell_type": "code",
   "execution_count": 56,
   "metadata": {},
   "outputs": [],
   "source": [
    "ie = {'I' : ['i','e','i','e','e','i','e','i'],'E' : ['e','i','e','i','i','e','i','e']}\n",
    "sn = {'S': ['S','N','S','N'], 'N':['N','S','N','S']}\n",
    "tf = {'T':['T','F','T','F'], 'F':['F','T','F','T']}\n",
    "\n"
   ]
  },
  {
   "cell_type": "code",
   "execution_count": 91,
   "metadata": {},
   "outputs": [
    {
     "data": {
      "text/plain": [
       "['I', 'N', 'F', 'P']"
      ]
     },
     "execution_count": 91,
     "metadata": {},
     "output_type": "execute_result"
    }
   ],
   "source": [
    "istj = list(input().upper())\n",
    "istj"
   ]
  },
  {
   "cell_type": "code",
   "execution_count": 92,
   "metadata": {},
   "outputs": [
    {
     "data": {
      "text/plain": [
       "['Ni', 'Fe', 'Ti', 'Se', 'Ni', 'Fe', 'Te', 'Si']"
      ]
     },
     "execution_count": 92,
     "metadata": {},
     "output_type": "execute_result"
    }
   ],
   "source": [
    "m8 = []\n",
    "for k in j:\n",
    "    for i in range(0,3,2):\n",
    "        a = sn[istj[1]][i]+ie[istj[0]][i]\n",
    "        b = tf[istj[2]][i]+ie[istj[0]][i+1]\n",
    "        c = tf[istj[2]][i+1]+ie[istj[0]][i+2]\n",
    "        d = sn[istj[1]][i+1]+ie[istj[0]][i+3]\n",
    "        if i == 2:\n",
    "            a = sn[istj[1]][i]+ie[istj[0]][i+2]\n",
    "            b = tf[istj[2]][i]+ie[istj[0]][i+3]\n",
    "            c = tf[istj[2]][i+1]+ie[istj[0]][i+4]\n",
    "            d = sn[istj[1]][i+1]+ie[istj[0]][i+5]\n",
    "        m8.append(a)\n",
    "        m8.append(b)\n",
    "        m8.append(c)\n",
    "        m8.append(d)\n",
    "    m8"
   ]
  },
  {
   "cell_type": "code",
   "execution_count": 93,
   "metadata": {},
   "outputs": [
    {
     "name": "stdout",
     "output_type": "stream",
     "text": [
      "['I', 'N', 'F', 'P']\n",
      "['Fi', 'Ne', 'Si', 'Te', 'Fe', 'Ni', 'Se', 'Ti']\n"
     ]
    }
   ],
   "source": [
    "m8 = []\n",
    "if ('I' in istj and'J' in istj) or ('E' in istj and'P' in istj):\n",
    "    for i in range(0,3,2):\n",
    "        a = sn[istj[1]][i]+ie[istj[0]][i]\n",
    "        b = tf[istj[2]][i]+ie[istj[0]][i+1]\n",
    "        c = tf[istj[2]][i+1]+ie[istj[0]][i+2]\n",
    "        d = sn[istj[1]][i+1]+ie[istj[0]][i+3]\n",
    "        if i == 2:\n",
    "            a = sn[istj[1]][i]+ie[istj[0]][i+2]\n",
    "            b = tf[istj[2]][i]+ie[istj[0]][i+3]\n",
    "            c = tf[istj[2]][i+1]+ie[istj[0]][i+4]\n",
    "            d = sn[istj[1]][i+1]+ie[istj[0]][i+5]\n",
    "        m8.append(a)\n",
    "        m8.append(b)\n",
    "        m8.append(c)\n",
    "        m8.append(d)\n",
    "    print(istj)\n",
    "    print(m8)\n",
    "elif ('I' in istj and'P' in istj) or ('E' in istj and'J' in istj):\n",
    "    for i in range(0,3,2):\n",
    "        a = tf[istj[2]][i]+ie[istj[0]][i]\n",
    "        b = sn[istj[1]][i]+ie[istj[0]][i+1]\n",
    "        c = sn[istj[1]][i+1]+ie[istj[0]][i+2]\n",
    "        d = tf[istj[2]][i+1]+ie[istj[0]][i+3]\n",
    "        if i == 2:\n",
    "            a = tf[istj[2]][i]+ie[istj[0]][i+2]\n",
    "            b = sn[istj[1]][i]+ie[istj[0]][i+3]\n",
    "            c = sn[istj[1]][i+1]+ie[istj[0]][i+4]\n",
    "            d = tf[istj[2]][i+1]+ie[istj[0]][i+5]\n",
    "        m8.append(a)\n",
    "        m8.append(b)\n",
    "        m8.append(c)\n",
    "        m8.append(d)\n",
    "    print(istj)\n",
    "    print(m8)\n"
   ]
  },
  {
   "cell_type": "code",
   "execution_count": 101,
   "metadata": {},
   "outputs": [
    {
     "data": {
      "text/plain": [
       "{'ISTJ': ['Si', 'Te', 'Fi', 'Ne', 'Se', 'Ti', 'Fe', 'Ni'],\n",
       " 'ISFJ': ['Si', 'Fe', 'Ti', 'Ne', 'Se', 'Fi', 'Te', 'Ni'],\n",
       " 'INFJ': ['Ni', 'Fe', 'Ti', 'Se', 'Ne', 'Fi', 'Te', 'Si'],\n",
       " 'INTJ': ['Ni', 'Te', 'Fi', 'Se', 'Ne', 'Ti', 'Fe', 'Si'],\n",
       " 'ISTP': ['Ti', 'Se', 'Ni', 'Fe', 'Te', 'Si', 'Ne', 'Fi'],\n",
       " 'INTP': ['Ti', 'Ne', 'Si', 'Fe', 'Te', 'Ni', 'Se', 'Fi'],\n",
       " 'ISFP': ['Fi', 'Se', 'Ni', 'Te', 'Fe', 'Si', 'Ne', 'Ti'],\n",
       " 'INFP': ['Fi', 'Ne', 'Si', 'Te', 'Fe', 'Ni', 'Se', 'Ti'],\n",
       " 'ESTP': ['Se', 'Ti', 'Fe', 'Ni', 'Si', 'Te', 'Fi', 'Ne'],\n",
       " 'ESFP': ['Se', 'Fi', 'Te', 'Ni', 'Si', 'Fe', 'Ti', 'Ne'],\n",
       " 'ENFP': ['Ne', 'Fi', 'Te', 'Si', 'Ni', 'Fe', 'Ti', 'Se'],\n",
       " 'ENTP': ['Ne', 'Ti', 'Fe', 'Si', 'Ni', 'Te', 'Fi', 'Se'],\n",
       " 'ESTJ': ['Te', 'Si', 'Ne', 'Fi', 'Ti', 'Se', 'Ni', 'Fe'],\n",
       " 'ENTJ': ['Te', 'Ni', 'Se', 'Fi', 'Ti', 'Ne', 'Si', 'Fe'],\n",
       " 'ESFJ': ['Fe', 'Si', 'Ne', 'Ti', 'Fi', 'Se', 'Ni', 'Te'],\n",
       " 'ENFJ': ['Fe', 'Ni', 'Se', 'Ti', 'Fi', 'Ne', 'Si', 'Te']}"
      ]
     },
     "execution_count": 101,
     "metadata": {},
     "output_type": "execute_result"
    }
   ],
   "source": [
    "mbti3 = {}\n",
    "j = ['ISTJ','ISFJ','INFJ','INTJ','ISTP','INTP','ISFP','INFP','ESTP','ESFP','ENFP','ENTP','ESTJ','ENTJ','ESFJ','ENFJ']\n",
    "for k in j:\n",
    "    istj = list(k)\n",
    "    m8 = []\n",
    "    if ('I' in istj and'J' in istj) or ('E' in istj and'P' in istj):\n",
    "        for i in range(0,3,2):\n",
    "            a = sn[istj[1]][i]+ie[istj[0]][i]\n",
    "            b = tf[istj[2]][i]+ie[istj[0]][i+1]\n",
    "            c = tf[istj[2]][i+1]+ie[istj[0]][i+2]\n",
    "            d = sn[istj[1]][i+1]+ie[istj[0]][i+3]\n",
    "            if i == 2:\n",
    "                a = sn[istj[1]][i]+ie[istj[0]][i+2]\n",
    "                b = tf[istj[2]][i]+ie[istj[0]][i+3]\n",
    "                c = tf[istj[2]][i+1]+ie[istj[0]][i+4]\n",
    "                d = sn[istj[1]][i+1]+ie[istj[0]][i+5]\n",
    "            m8.append(a)\n",
    "            m8.append(b)\n",
    "            m8.append(c)\n",
    "            m8.append(d)\n",
    "        mbti3[k] = m8\n",
    "    elif ('I' in istj and'P' in istj) or ('E' in istj and'J' in istj):\n",
    "        for i in range(0,3,2):\n",
    "            a = tf[istj[2]][i]+ie[istj[0]][i]\n",
    "            b = sn[istj[1]][i]+ie[istj[0]][i+1]\n",
    "            c = sn[istj[1]][i+1]+ie[istj[0]][i+2]\n",
    "            d = tf[istj[2]][i+1]+ie[istj[0]][i+3]\n",
    "            if i == 2:\n",
    "                a = tf[istj[2]][i]+ie[istj[0]][i+2]\n",
    "                b = sn[istj[1]][i]+ie[istj[0]][i+3]\n",
    "                c = sn[istj[1]][i+1]+ie[istj[0]][i+4]\n",
    "                d = tf[istj[2]][i+1]+ie[istj[0]][i+5]\n",
    "            m8.append(a)\n",
    "            m8.append(b)\n",
    "            m8.append(c)\n",
    "            m8.append(d)\n",
    "        mbti3[k] = m8\n",
    "mbti3\n"
   ]
  },
  {
   "cell_type": "code",
   "execution_count": 102,
   "metadata": {},
   "outputs": [
    {
     "data": {
      "text/plain": [
       "{'ISTJ': ['Si', 'Te', 'Fi', 'Ne', 'Se', 'Ti', 'Fe', 'Ni'],\n",
       " 'ISFJ': ['Si', 'Fe', 'Ti', 'Ne', 'Se', 'Fi', 'Te', 'Ni'],\n",
       " 'INFJ': ['Ni', 'Fe', 'Ti', 'Se', 'Ne', 'Fi', 'Te', 'Si'],\n",
       " 'INTJ': ['Ni', 'Te', 'Fi', 'Se', 'Ne', 'Ti', 'Fe', 'Si'],\n",
       " 'ISTP': ['Si', 'Te', 'Fi', 'Ne', 'Se', 'Ti', 'Fe', 'Ni'],\n",
       " 'INTP': ['Ni', 'Te', 'Fi', 'Se', 'Ne', 'Ti', 'Fe', 'Si'],\n",
       " 'ISFP': ['Si', 'Fe', 'Ti', 'Ne', 'Se', 'Fi', 'Te', 'Ni'],\n",
       " 'INFP': ['Ni', 'Fe', 'Ti', 'Se', 'Ne', 'Fi', 'Te', 'Si'],\n",
       " 'ESTP': ['Se', 'Ti', 'Fe', 'Ni', 'Si', 'Te', 'Fi', 'Ne'],\n",
       " 'ESFP': ['Se', 'Fi', 'Te', 'Ni', 'Si', 'Fe', 'Ti', 'Ne'],\n",
       " 'ENFP': ['Ne', 'Fi', 'Te', 'Si', 'Ni', 'Fe', 'Ti', 'Se'],\n",
       " 'ENTP': ['Ne', 'Ti', 'Fe', 'Si', 'Ni', 'Te', 'Fi', 'Se'],\n",
       " 'ESTJ': ['Se', 'Ti', 'Fe', 'Ni', 'Si', 'Te', 'Fi', 'Ne'],\n",
       " 'ENTJ': ['Ne', 'Ti', 'Fe', 'Si', 'Ni', 'Te', 'Fi', 'Se'],\n",
       " 'ESFJ': ['Se', 'Fi', 'Te', 'Ni', 'Si', 'Fe', 'Ti', 'Ne'],\n",
       " 'ENFJ': ['Ne', 'Fi', 'Te', 'Si', 'Ni', 'Fe', 'Ti', 'Se']}"
      ]
     },
     "execution_count": 102,
     "metadata": {},
     "output_type": "execute_result"
    }
   ],
   "source": [
    "mbti1 = {}\n",
    "for k in j:\n",
    "    m8 = []\n",
    "    istj = list(k)\n",
    "    for i in range(0,3,2):\n",
    "        a = sn[istj[1]][i]+ie[istj[0]][i]\n",
    "        b = tf[istj[2]][i]+ie[istj[0]][i+1]\n",
    "        c = tf[istj[2]][i+1]+ie[istj[0]][i+2]\n",
    "        d = sn[istj[1]][i+1]+ie[istj[0]][i+3]\n",
    "        if i == 2:\n",
    "            a = sn[istj[1]][i]+ie[istj[0]][i+2]\n",
    "            b = tf[istj[2]][i]+ie[istj[0]][i+3]\n",
    "            c = tf[istj[2]][i+1]+ie[istj[0]][i+4]\n",
    "            d = sn[istj[1]][i+1]+ie[istj[0]][i+5]\n",
    "        m8.append(a)\n",
    "        m8.append(b)\n",
    "        m8.append(c)\n",
    "        m8.append(d)\n",
    "    mbti1[k] = m8\n",
    "mbti1"
   ]
  },
  {
   "cell_type": "code",
   "execution_count": 103,
   "metadata": {},
   "outputs": [
    {
     "data": {
      "text/plain": [
       "'ENTP'"
      ]
     },
     "execution_count": 103,
     "metadata": {},
     "output_type": "execute_result"
    }
   ],
   "source": [
    "mymbti = input().upper()\n",
    "mymbti"
   ]
  },
  {
   "cell_type": "code",
   "execution_count": 107,
   "metadata": {},
   "outputs": [
    {
     "name": "stdout",
     "output_type": "stream",
     "text": [
      "8\n"
     ]
    },
    {
     "data": {
      "text/plain": [
       "{'Ne': '46.2',\n",
       " 'Ni': '43.8',\n",
       " 'Se': '35',\n",
       " 'Si': '22',\n",
       " 'Te': '25',\n",
       " 'Ti': '43',\n",
       " 'Fe': '22',\n",
       " 'Fi': '29'}"
      ]
     },
     "execution_count": 107,
     "metadata": {},
     "output_type": "execute_result"
    }
   ],
   "source": [
    "print(len(data))\n",
    "data"
   ]
  },
  {
   "cell_type": "code",
   "execution_count": 109,
   "metadata": {},
   "outputs": [
    {
     "data": {
      "text/plain": [
       "{'Ne': '46.2',\n",
       " 'Ti': '43',\n",
       " 'Fe': '22',\n",
       " 'Si': '22',\n",
       " 'Ni': '43.8',\n",
       " 'Te': '25',\n",
       " 'Fi': '29',\n",
       " 'Se': '35'}"
      ]
     },
     "execution_count": 109,
     "metadata": {},
     "output_type": "execute_result"
    }
   ],
   "source": [
    "my8 = {}\n",
    "for i in range(len(data)):\n",
    "    a = mbti3[mymbti][i]\n",
    "    b = data[a]\n",
    "    my8[a] = b\n",
    "my8"
   ]
  }
 ],
 "metadata": {
  "kernelspec": {
   "display_name": "Python 3.8.0 ('s')",
   "language": "python",
   "name": "python3"
  },
  "language_info": {
   "codemirror_mode": {
    "name": "ipython",
    "version": 3
   },
   "file_extension": ".py",
   "mimetype": "text/x-python",
   "name": "python",
   "nbconvert_exporter": "python",
   "pygments_lexer": "ipython3",
   "version": "3.8.13"
  },
  "orig_nbformat": 4,
  "vscode": {
   "interpreter": {
    "hash": "3f64803d6c28ba322e22f81d4ddf615dc9838bea52618eba80174cc248cf28ac"
   }
  }
 },
 "nbformat": 4,
 "nbformat_minor": 2
}
